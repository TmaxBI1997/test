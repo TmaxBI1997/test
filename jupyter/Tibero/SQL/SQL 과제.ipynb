{
 "cells": [
  {
   "cell_type": "markdown",
   "id": "ab825c29-7136-4ded-a5a3-f498f9b560c5",
   "metadata": {},
   "source": [
    "Q.2"
   ]
  },
  {
   "cell_type": "code",
   "execution_count": null,
   "id": "fe812021-baaf-492b-a773-b58a3cba1d0b",
   "metadata": {},
   "outputs": [],
   "source": [
    "SELECT *\n",
    "FROM(SELECT *\n",
    "\t FROM (SELECT AIRLINE, DAY_OF_WEEK, (COUNT(*)/3) AS FLIGHT_BYMONTH, AVG(DISTANCE) AS AVG_DIST\n",
    "\t\t\tFROM FLIGHTS\n",
    "\t\t\tGROUP BY AIRLINE, DAY_OF_WEEK\n",
    "\t\t\tORDER BY AIRLINE, DAY_OF_WEEK\n",
    "\t\t  )\n",
    "\tUNPIVOT(TEMP FOR PIVOT IN (FLIGHT_BYMONTH, AVG_DIST))\n",
    "\tORDER BY AIRLINE, DAY_OF_WEEK\n",
    "\t)\n",
    "PIVOT(\n",
    "\tSUM(TEMP)\n",
    "\tFOR DAY_OF_WEEK IN (1 AS SUN,2 AS MON,3 AS TUE,4 AS WED,5 AS THU,6 AS FRI, 7 AS SAT)\n",
    ")"
   ]
  },
  {
   "cell_type": "markdown",
   "id": "ec924c1b-742a-47df-9b5f-e3602aebe91d",
   "metadata": {},
   "source": [
    "Q.3"
   ]
  },
  {
   "cell_type": "code",
   "execution_count": null,
   "id": "2e6d0a73-8ea5-422d-a69d-e05c0e091215",
   "metadata": {},
   "outputs": [],
   "source": [
    "SELECT b.airline, a_total_delay,  b_total_delay, (a_total_delay / b_total_delay) AS RATE\n",
    "FROM(\n",
    "\tSELECT AIRLINE as a, COUNT(LATE_AIRCRAFT_DELAY)AS A_TOTAL_DELAY\n",
    "\tFROM FLIGHTS\n",
    "\tWHERE LATE_AIRCRAFT_DELAY > 0\n",
    "\tGROUP BY AIRLINE\n",
    "\t)\n",
    "LEFT JOIN (\n",
    "\tSELECT AIRLINE, COUNT(LATE_AIRCRAFT_DELAY)AS B_TOTAL_DELAY\n",
    "\tFROM FLIGHTS\n",
    "\tWHERE LATE_AIRCRAFT_DELAY >= 0\n",
    "\tGROUP BY AIRLINE\n",
    "\t\t   ) AS b\n",
    "ON a=b.airline;"
   ]
  },
  {
   "cell_type": "markdown",
   "id": "c49a8393-7121-441d-b74c-e7c753baa6db",
   "metadata": {},
   "source": [
    "Q.4.1"
   ]
  },
  {
   "cell_type": "code",
   "execution_count": null,
   "id": "4cd2773f-9ffa-4152-96da-42461f60331b",
   "metadata": {},
   "outputs": [],
   "source": [
    "SELECT AIRLINE, SCHEDULED_TIME, AIR_TIME, CASE\n",
    "WHEN DIFF BETWEEN 70 AND 120 THEN '1'\n",
    "WHEN DIFF BETWEEN 30 AND 70 THEN '2'\n",
    "WHEN DIFF BETWEEN 0 AND 30 THEN '3'\n",
    "WHEN DIFF BETWEEN -30 AND 0 THEN '4'\n",
    "ELSE '5'\n",
    "END AS RANK\n",
    "FROM(\n",
    "\tSELECT AIRLINE, SCHEDULED_TIME, AIR_TIME, (SCHEDULED_TIME - AIR_TIME) AS DIFF\n",
    "\tFROM FLIGHTS\n",
    "\tWHERE (SCHEDULED_TIME-AIR_TIME) IS NOT NULL\n",
    "\t)\n",
    "ORDER BY DIFF DESC"
   ]
  },
  {
   "cell_type": "code",
   "execution_count": null,
   "id": "d5087557-004b-49ee-87d1-5303f8208ed4",
   "metadata": {},
   "outputs": [],
   "source": []
  },
  {
   "cell_type": "code",
   "execution_count": null,
   "id": "5c2ff257-faa2-41a4-8369-2d74b18f7079",
   "metadata": {},
   "outputs": [],
   "source": [
    "SELECT AIRLINE, SUM, CASE\n",
    "WHEN SUM = 0 THEN '1'\n",
    "WHEN SUM BETWEEN 30 AND 70 THEN '2'\n",
    "WHEN SUM BETWEEN 70 AND 150 THEN '3'\n",
    "WHEN SUM BETWEEN 150 AND 300 THEN '4'\n",
    "ELSE '5'\n",
    "END AS RANK\n",
    "FROM(\n",
    "\tSELECT AIRLINE, SECURITY_DELAY, AIRLINE_DELAY, LATE_AIRCRAFT_DELAY, (SECURITY_DELAY+AIRLINE_DELAY+LATE_AIRCRAFT_DELAY) AS SUM\n",
    "\tFROM FLIGHTS \n",
    "\tWHERE ARRIVAL_DELAY > 0 AND\n",
    "\tSECURITY_DELAY IS NOT NULL AND\n",
    "\tAIRLINE_DELAY IS NOT NULL AND\n",
    "\tLATE_AIRCRAFT_DELAY IS NOT NULL\n",
    "\t)\n",
    "ORDER BY SUM DESC"
   ]
  },
  {
   "cell_type": "code",
   "execution_count": null,
   "id": "169b1533-448c-45b5-9c43-e24c3ba72d5f",
   "metadata": {},
   "outputs": [],
   "source": []
  },
  {
   "cell_type": "code",
   "execution_count": null,
   "id": "e37c8fca-1674-4c93-bce0-d5d40e1356d1",
   "metadata": {},
   "outputs": [],
   "source": []
  },
  {
   "cell_type": "code",
   "execution_count": null,
   "id": "20c99a45-cecc-44ea-8c74-ca085dadc4ce",
   "metadata": {},
   "outputs": [],
   "source": []
  }
 ],
 "metadata": {
  "kernelspec": {
   "display_name": "Python 3 (ipykernel)",
   "language": "python",
   "name": "python3"
  },
  "language_info": {
   "codemirror_mode": {
    "name": "ipython",
    "version": 3
   },
   "file_extension": ".py",
   "mimetype": "text/x-python",
   "name": "python",
   "nbconvert_exporter": "python",
   "pygments_lexer": "ipython3",
   "version": "3.8.8"
  }
 },
 "nbformat": 4,
 "nbformat_minor": 5
}
