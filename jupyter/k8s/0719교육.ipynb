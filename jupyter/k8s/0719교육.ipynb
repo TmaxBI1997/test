{
 "cells": [
  {
   "cell_type": "markdown",
   "id": "cbbb1839-c705-4dfd-a82d-de7521c6c3a4",
   "metadata": {},
   "source": [
    "# Kubernetes"
   ]
  },
  {
   "cell_type": "markdown",
   "id": "a901e4c9-ccf4-4b8a-bf88-7f08c017a1b1",
   "metadata": {},
   "source": [
    "## 1. MSA (monolithic Architecture)\n",
    "\n",
    "Original way:\n",
    "dis: 1. 하나의 통으로 2.\n",
    "### solution : scale out\n",
    "how about scale up?\n",
    "\n",
    "1. what is micro service?\n",
    "- 독립적 run 가능, 독립적 배포, 의존성 최소화\n",
    "<br></br>\n",
    "\n",
    "__pro__\n",
    "- scale\n",
    "\n",
    "__con__\n",
    "- 통신비용 Latency 증가\n",
    "- 테스트 복잡도 증가\n",
    "- 데이터 관리 어려움\n",
    "<br></br>\n",
    "\n",
    "## 2. Docker Runtime\n",
    "- CRI-O, container runtime\n",
    "<br></br>\n",
    "\n",
    "## 3. Features of Kubernetes\n",
    "##### __상태관리__ : \n",
    "- deployment: pod 상태관리 자동\n",
    "- pod로 올리는 경우: Node 가 죽었을때 자동으로 안띄어줌<br>\n",
    "\n",
    "##### __스케줄링__\n",
    "##### __클러스터__ : 가상 네트워크를 통해 통신하기 떄문에 하나의 서버처럼 관리할수있다.\n",
    "##### __서비스 디스커버리__ : 서비스간의 통신가능\n",
    "<br></br>\n",
    "\n",
    "## 4. Architecture\n",
    "Master Node\n",
    "- API Server (kubectl)\n",
    "-- 권한관리, etcd 데이터 조회\n",
    "- Etcd\n",
    "-- 분산형 key/value 오픈소스 Storage\n",
    "- kube-controller-manager\n",
    "- kube-scheduller\n",
    "\n",
    "Worker Node\n",
    " - kubelet\n",
    " - kube-proxy"
   ]
  },
  {
   "cell_type": "markdown",
   "id": "d067aeab-0456-4f2b-9064-eb5a4958bc15",
   "metadata": {},
   "source": []
  },
  {
   "cell_type": "markdown",
   "id": "efd6d3c2-3c9a-4528-b09f-7068ccf5f3c4",
   "metadata": {},
   "source": [
    "# Kubernetes Objects\n",
    "\n",
    "#### Pods\n",
    "- Pod 단위로 스케줄링, 로드 밸런싱 가능\n",
    "\n",
    "실전 \n",
    "- kubectl get namespace -> Namespace는 하나의 프로젝트 단위, kernel 단위와 namespace와는 다름.\n",
    "\n",
    "어떻게 Pod를 올릴까?\n",
    "- exec yaml -> yaml 작성방법\n",
    "\n",
    "Yaml 총 4가지 종류\n",
    "api, kind, metadata spec"
   ]
  },
  {
   "cell_type": "code",
   "execution_count": null,
   "id": "fd2101fe-cc10-451b-aa71-e6aed9314551",
   "metadata": {},
   "outputs": [],
   "source": [
    "apiVersion: v1 (for deployment its apps/v1)\n",
    "kind: Pod \n",
    "metadata: \n",
    "    namespace: study\n",
    "    name: knk-pod\n",
    "spec:\n",
    "    containers:\n",
    "        -image: nginx\n",
    "         name: nginx\n",
    "            \n",
    ":set paste"
   ]
  },
  {
   "cell_type": "code",
   "execution_count": null,
   "id": "2dfd7d3f-2950-4200-abaa-d6521b762720",
   "metadata": {},
   "outputs": [],
   "source": [
    "kubectl get pod -n study\n",
    "kubectl get rs\n",
    "kubectl get deployment\n",
    "kubectl get all -n study"
   ]
  },
  {
   "cell_type": "code",
   "execution_count": null,
   "id": "d60812e6-e2eb-48ba-b901-61ef2b6c13fb",
   "metadata": {},
   "outputs": [],
   "source": [
    "watch kubectl get pod -n study (show live)\n",
    "describe pod "
   ]
  },
  {
   "cell_type": "code",
   "execution_count": null,
   "id": "57756e9a-e12f-41e1-aa24-7b923dd16ed5",
   "metadata": {},
   "outputs": [],
   "source": [
    "kubectl create -f nsk.pod.yaml (file 읽어서 실행)\n",
    "kubectl run help\n",
    "kubectl run nginx --image=nginx (pod or deployment)\n",
    "kubectl run nginx --image=nginx --dry-run client -o yaml (pod 실행, yaml 출력) 출력후 resource, strategy, status는 빼야함\n",
    "kubectl get po\n",
    "kubectl get ns (namespace)\n",
    "kubectl get all"
   ]
  },
  {
   "cell_type": "markdown",
   "id": "edea6aed-8210-456f-b85d-87a969f81c10",
   "metadata": {},
   "source": [
    "\n",
    "Pod 접근 <br>\n",
    "`kubectl exec -n study ljh-pod(or podName or ID) -it -- bash`\n",
    "- log 확인\n",
    "- process, 상태확인.\n",
    "- 파일 옮길때."
   ]
  },
  {
   "cell_type": "code",
   "execution_count": null,
   "id": "00df7657-1567-46e4-9239-531e6a3d545c",
   "metadata": {},
   "outputs": [],
   "source": [
    "replicaset : control manager의 기능\n",
    "but deployment 를 사용함 = replicaset의 상위호환 왜냐? RollBack, Update 기능을 지원하기 때문.\n",
    "    selector: 사용하고 싶은 pod를 묶으주는 역활"
   ]
  },
  {
   "cell_type": "code",
   "execution_count": null,
   "id": "eeee4a09-499c-441c-9df2-54be8078e61a",
   "metadata": {},
   "outputs": [],
   "source": [
    "apiVersion: apps/v1\n",
    "kind: ReplicaSet\n",
    "metadata:\n",
    "    name: psk-rs\n",
    "    namespace: study\n",
    "    labels:\n",
    "     a: b  (rs, pod아무거나)\n",
    "     tier: frontend\n",
    "     app: nginx\n",
    "spec: (replicaset에 대한 spec)\n",
    "    replicas: 3\n",
    "    selector:\n",
    "     matchLabels:\n",
    "       tier: frontend\n",
    "    template:\n",
    "     metadata:\n",
    "      labels:\n",
    "       tier: frontend\n",
    "    spec:\n",
    "     containers:\n",
    "     - image: nginx\n",
    "       name: nginx"
   ]
  },
  {
   "cell_type": "code",
   "execution_count": null,
   "id": "43cabe43-08fc-42a2-af8e-5e507d33613d",
   "metadata": {},
   "outputs": [],
   "source": [
    "kube label pods -n study psk-rs-id\n",
    "kubectl edit deployments -n study"
   ]
  },
  {
   "cell_type": "code",
   "execution_count": null,
   "id": "4c27ea13-c439-4a9c-8690-03406579bf4e",
   "metadata": {},
   "outputs": [],
   "source": [
    "rollingupdate vs recreate (자료가 부족할때, 시간대비 업데이트 필요)"
   ]
  },
  {
   "cell_type": "code",
   "execution_count": null,
   "id": "ec964d24-1354-40de-8507-f5dbbc4c4da8",
   "metadata": {},
   "outputs": [],
   "source": []
  },
  {
   "cell_type": "code",
   "execution_count": null,
   "id": "3138edbe-9ad4-4f36-9a38-00e8cb3227a5",
   "metadata": {},
   "outputs": [],
   "source": [
    "서비서: k8s 파드에있는 포트나 지정을 해주고 서비스에서 지정을 해주고 연결해서 외부접근가능\n",
    "    \n",
    "    1. clusterIp - 클러스터 내부\n",
    "    2. NodePort - 노드의 특정 포인트를 사용하여 접근\n",
    "    3. LoadBalancer\n",
    "    4. External Name"
   ]
  },
  {
   "cell_type": "code",
   "execution_count": null,
   "id": "824a4ba4-7528-4c80-bc59-c079be1fee9a",
   "metadata": {},
   "outputs": [],
   "source": [
    "kubectl get deployment psk-rs -n study -o yaml > back.yaml"
   ]
  },
  {
   "cell_type": "code",
   "execution_count": null,
   "id": "61e83b02-e001-4524-a0c3-32312798640b",
   "metadata": {},
   "outputs": [],
   "source": []
  },
  {
   "cell_type": "code",
   "execution_count": null,
   "id": "b4240aaa-53b0-4905-9953-2e63c996508d",
   "metadata": {},
   "outputs": [],
   "source": [
    "ports\n",
    "\n",
    "apiVersion: v1 (for deployment its apps/v1)\n",
    "kind: Pod \n",
    "metadata: \n",
    "    namespace: study\n",
    "    name: knk-pod\n",
    "spec:\n",
    "    containers:\n",
    "        -image: nginx\n",
    "         name: nginx\n",
    "         ports:\n",
    "         - containerPort: 80\n",
    "            \n",
    ":set paste\n"
   ]
  },
  {
   "cell_type": "markdown",
   "id": "dffb69be-52b4-4bd6-bd58-ae7d77493e8b",
   "metadata": {},
   "source": [
    "Server를 사용해 ClusterIP로 파드끼리 연결해주는방법 : 내부에서 통신이 가능하기때문에 외부에서 접근하게 쓰려면 Proxy사용"
   ]
  },
  {
   "cell_type": "code",
   "execution_count": null,
   "id": "318317b3-d8fb-4810-a3cb-1a8c30c37298",
   "metadata": {},
   "outputs": [],
   "source": [
    "apiVersion: v1\n",
    "kind: Service\n",
    "metadata: \n",
    "  name: knk-service\n",
    "  namespace: study\n",
    "spec:\n",
    "  type: ClusterIP\n",
    "  selector:\n",
    "    app: nginx\n",
    "  ports:\n",
    "  - name:http\n",
    "    port: 80\n",
    "    targetPort: 80\n",
    "    protocol: TCP"
   ]
  },
  {
   "cell_type": "code",
   "execution_count": null,
   "id": "ee7eada9-1b09-4a42-a2a4-fd52349f126c",
   "metadata": {},
   "outputs": [],
   "source": [
    "endpoints를 get po를 실행해 연결이 됫는지 안됬는지 봐야함\n",
    "\n",
    "\n",
    "apiVersion: v1\n",
    "kind: Service\n",
    "metadata: \n",
    "  name: knk-service\n",
    "  namespace: study\n",
    "spec:\n",
    "  type: ClusterIP\n",
    "  selector:\n",
    "    app1: nginx1 ############\n",
    "  ports:\n",
    "  - name:http\n",
    "    port: 80\n",
    "    targetPort: 80\n",
    "    protocol: TCP\n",
    "        \n",
    "\n",
    "        kubectl describe svc app-service -n service"
   ]
  },
  {
   "cell_type": "code",
   "execution_count": null,
   "id": "55a595eb-4219-42f5-88ee-f18e4c607c9f",
   "metadata": {},
   "outputs": [],
   "source": [
    "deployment\n",
    "replicas:3\n",
    "name: 아무거나\n",
    "port: 80 으로 띄워서 서비스에 연결해서 엔드포인트가 연결되게\n"
   ]
  },
  {
   "cell_type": "code",
   "execution_count": null,
   "id": "b37a0629-ee04-4e38-9fa4-7a30dec84870",
   "metadata": {},
   "outputs": [],
   "source": [
    "kubectl get deployments psk-rs -n study -o yaml > 파일이름.yaml\n",
    "kubectl delete po psk-port-pod -n studyvi\n",
    "kubectl describe svc app-service -n study\n",
    "kubectl get all -n study\n",
    "kubectl get pods -n assignment --show-labels\n",
    "kubectl label pods -n study psk-rs-id\n",
    "kubectl get po -o wide -n assignment"
   ]
  },
  {
   "cell_type": "code",
   "execution_count": null,
   "id": "a3ca999b-9a2a-4992-9c1e-82a04a8b30a6",
   "metadata": {},
   "outputs": [],
   "source": []
  },
  {
   "cell_type": "code",
   "execution_count": null,
   "id": "b19bd56c-ab09-409b-8a7d-d81c4db5207b",
   "metadata": {},
   "outputs": [],
   "source": [
    "two connected"
   ]
  },
  {
   "cell_type": "code",
   "execution_count": null,
   "id": "71492cd3-ccb2-4611-9c7b-228289c20524",
   "metadata": {},
   "outputs": [],
   "source": [
    "apiVersion: apps/v1\n",
    "kind: Deployment\n",
    "metadata:\n",
    "  name: knk-rs\n",
    "  namespace: assignment\n",
    "spec:\n",
    "  replicas: 3\n",
    "  selector:\n",
    "    matchLabels:\n",
    "      app1: nginx1\n",
    "  template:\n",
    "    metadata:\n",
    "      labels:\n",
    "        app1: nginx1\n",
    "    spec:\n",
    "      containers:\n",
    "      - image: nginx\n",
    "        name: nginx\n"
   ]
  },
  {
   "cell_type": "code",
   "execution_count": null,
   "id": "cdb6e5d2-e01f-4d52-8c79-b6d6e14d71bc",
   "metadata": {},
   "outputs": [],
   "source": [
    "apiVersion: v1\n",
    "kind: Service\n",
    "metadata:\n",
    "  name: knk-svc\n",
    "  namespace: assignment\n",
    "spec:\n",
    "  type: ClusterIP\n",
    "  selector:\n",
    "    app1: nginx1\n",
    "  ports:\n",
    "  - name: http\n",
    "    port: 80\n",
    "    targetPort: 80\n",
    "    protocol: TCP"
   ]
  },
  {
   "cell_type": "markdown",
   "id": "56952262-e239-4647-b00a-218c45fa505a",
   "metadata": {},
   "source": []
  },
  {
   "cell_type": "markdown",
   "id": "8609833a-7491-4064-aaac-3993e78045c8",
   "metadata": {},
   "source": [
    "### Nodeport -> 1 ~ 6까지 있는데 외부에서 접근가능 ClusterIP는 내부끼리 접근 가능"
   ]
  },
  {
   "cell_type": "markdown",
   "id": "8bf8c346-3858-4de2-a741-b6b8548ca949",
   "metadata": {},
   "source": [
    "포트당 하나의 서비스 = 30000 - 32767 범위내 포트"
   ]
  },
  {
   "cell_type": "markdown",
   "id": "6505c801-bf53-42cf-8fd6-afea6339d636",
   "metadata": {},
   "source": [
    "## Example"
   ]
  },
  {
   "cell_type": "code",
   "execution_count": null,
   "id": "6b18a5bf-3349-4d64-8e8b-1b6217efadac",
   "metadata": {},
   "outputs": [],
   "source": [
    "### FOR POD\n",
    "apiVersion: v1\n",
    "kind: Pod\n",
    "metadata:\n",
    "  name: knk-port-pod\n",
    "  namespace: study\n",
    "  labels:\n",
    "    app: knk-nginx\n",
    "spec:\n",
    "  containers:\n",
    "  - image: nginx\n",
    "    name: nginx\n",
    "    ports:\n",
    "    - containerPort: 80"
   ]
  },
  {
   "cell_type": "code",
   "execution_count": null,
   "id": "f9b920f6-de4d-43d5-94a5-812fe677f623",
   "metadata": {},
   "outputs": [],
   "source": [
    "### FOR CLUSTERIP\n",
    "apiVersion: v1\n",
    "kind: Service\n",
    "metadata:\n",
    "  name: knk-service\n",
    "  namespace: study\n",
    "spec:\n",
    "  type: ClusterIP\n",
    "  selector:\n",
    "    app: knk-nginx\n",
    "  ports:\n",
    "  - name: http\n",
    "    port: 80\n",
    "    targetPort: 80\n",
    "    protocol: TCP"
   ]
  },
  {
   "cell_type": "code",
   "execution_count": null,
   "id": "96ec32a9-33f8-4716-b74d-ddd57a445816",
   "metadata": {},
   "outputs": [],
   "source": [
    "### FOR NODEPORT\n",
    "apiVersion: v1\n",
    "kind: Service\n",
    "metadata:\n",
    "  name: knk-nodeport-service\n",
    "  namespace: study\n",
    "spec:\n",
    "  type: NodePort\n",
    "  selector:\n",
    "    app: knk-nginx\n",
    "  ports:\n",
    "  - name: http\n",
    "    port: 80\n",
    "    targetPort: 80\n",
    "    protocol: TCP"
   ]
  },
  {
   "cell_type": "code",
   "execution_count": null,
   "id": "512dee0c-d528-4cd6-9605-50bdbd04a398",
   "metadata": {},
   "outputs": [],
   "source": [
    "then now try 192.168.201.231 ~ 232 : node_port_number"
   ]
  },
  {
   "cell_type": "markdown",
   "id": "1d489828-b5f6-4795-b835-e8b607593a44",
   "metadata": {},
   "source": []
  },
  {
   "cell_type": "markdown",
   "id": "9bd1cf1e-214d-4da6-9a3b-31e2daddaf9c",
   "metadata": {},
   "source": [
    "# LoadBalancer (Nodeport 타입의 확장판)"
   ]
  },
  {
   "cell_type": "markdown",
   "id": "ba32c23d-0dd8-4d44-835e-b529fc5bf9d5",
   "metadata": {},
   "source": [
    "- Nodeport 와는 다르게 External-IP 를 제공한다."
   ]
  },
  {
   "cell_type": "markdown",
   "id": "c1656a6f-2d48-4635-8121-d9ee42dc0bc9",
   "metadata": {},
   "source": [
    "Nodeport vs External-IP ?\n",
    "- Nodeport는 CluterIP에서 nodeport를 추가해서 접근하고 LB는 할당된 IP로 접근하고 "
   ]
  },
  {
   "cell_type": "markdown",
   "id": "14f3dec0-2c94-478b-8a6a-2806332e6093",
   "metadata": {},
   "source": []
  },
  {
   "cell_type": "markdown",
   "id": "385c9d4f-790b-4736-aa63-ebaccaec2107",
   "metadata": {},
   "source": []
  },
  {
   "cell_type": "markdown",
   "id": "5a8b7876-b7c1-4d7a-87ab-a6efc0632d8e",
   "metadata": {},
   "source": []
  },
  {
   "cell_type": "code",
   "execution_count": null,
   "id": "eabaa0b4-81c4-4409-b6f4-c19e8a4ca49f",
   "metadata": {},
   "outputs": [],
   "source": []
  },
  {
   "cell_type": "code",
   "execution_count": null,
   "id": "c0567c43-e246-4819-a10e-806cebdf0be2",
   "metadata": {},
   "outputs": [],
   "source": []
  },
  {
   "cell_type": "code",
   "execution_count": null,
   "id": "105e72c8-fdb1-4757-be5d-5d384cbfc7ee",
   "metadata": {},
   "outputs": [],
   "source": []
  }
 ],
 "metadata": {
  "kernelspec": {
   "display_name": "Python 3",
   "language": "python",
   "name": "python3"
  },
  "language_info": {
   "codemirror_mode": {
    "name": "ipython",
    "version": 3
   },
   "file_extension": ".py",
   "mimetype": "text/x-python",
   "name": "python",
   "nbconvert_exporter": "python",
   "pygments_lexer": "ipython3",
   "version": "3.8.8"
  }
 },
 "nbformat": 4,
 "nbformat_minor": 5
}
