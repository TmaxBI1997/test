{
 "cells": [
  {
   "cell_type": "markdown",
   "id": "6b706aea-4d61-4de8-8b40-80e1478d749f",
   "metadata": {},
   "source": [
    "# Pod Schedule (Pod를 어느 Node에 띄우거나 띄우게 못하거나, 일부 조건을 걸어서 Pod를 올림)"
   ]
  },
  {
   "cell_type": "code",
   "execution_count": null,
   "id": "99188330-3b0f-464f-85a4-5ad909615374",
   "metadata": {},
   "outputs": [],
   "source": [
    "kubelet 이나 crio는 pod로 올리지않았고 system으로 올림.\n",
    "systemctl status kubelet\n",
    "systemctl status crio"
   ]
  },
  {
   "cell_type": "code",
   "execution_count": null,
   "id": "c868fc3a-f369-433f-bca1-a3a675c6c2e4",
   "metadata": {},
   "outputs": [],
   "source": [
    "node resource 보는법 kubectl describe node"
   ]
  },
  {
   "cell_type": "code",
   "execution_count": null,
   "id": "0eb805de-2c63-41cf-8dbb-c1add7ec506f",
   "metadata": {},
   "outputs": [],
   "source": [
    "스케줄러가 없는 경우 NodeName을 사용하여 어느 노드에 올릴지 지정할수있음."
   ]
  },
  {
   "cell_type": "code",
   "execution_count": null,
   "id": "a41aceb4-44ad-4f46-8d87-73f5fab9883d",
   "metadata": {},
   "outputs": [],
   "source": [
    "## Create NodeName.\n",
    "apiVersion: v1\n",
    "kind: Pod \n",
    "metadata: \n",
    "    namespace: study\n",
    "    name: knk-pod\n",
    "    labels:\n",
    "      app: knk-nginx\n",
    "spec:\n",
    "    containers:\n",
    "        -image: nginx\n",
    "         name: nginx\n",
    "         ports:\n",
    "         - containerPort: 80\n",
    "    nodeName: k8s-worker02 ## 지정 노드\n",
    "        "
   ]
  },
  {
   "cell_type": "code",
   "execution_count": null,
   "id": "9a845db1-9ae6-4d8f-9a74-cebdbec864c5",
   "metadata": {},
   "outputs": [],
   "source": [
    "장점: 스케줄러가 죽어서 작동안할때 고정된 Node에 올라감.\n",
    "단점: Node에 자원이 없을경우 Running이 안됨."
   ]
  },
  {
   "cell_type": "markdown",
   "id": "2725a55b-da16-400f-972f-b6e565493528",
   "metadata": {},
   "source": [
    "# Node label"
   ]
  },
  {
   "cell_type": "code",
   "execution_count": null,
   "id": "eaaaf367-5d7a-4588-bc20-a1284feaff8f",
   "metadata": {},
   "outputs": [],
   "source": [
    "#02 worker node에 knk라는 라벨 붙힘.\n",
    "kubectl label node k8s-worker02 name=knk\n",
    "kubectl get node --show-labels\n",
    "\n",
    "#delete\n",
    "kubectl label node k8s-worker02 name-"
   ]
  },
  {
   "cell_type": "code",
   "execution_count": null,
   "id": "29a86039-c97c-4994-a6d1-7f0cbb7cd3d9",
   "metadata": {},
   "outputs": [],
   "source": [
    "## Node selector\n",
    "apiVersion: v1\n",
    "kind: Pod\n",
    "metadata:\n",
    "  name: knk-nodeselector-pod\n",
    "  namespace: study\n",
    "  labels:\n",
    "    app: knk-nginx\n",
    "spec:\n",
    "  containers:\n",
    "  - image: nginx\n",
    "    name: nginx\n",
    "    ports:\n",
    "    - containerPort: 80\n",
    "  nodeSelector:\n",
    "    name: knk\n",
    "        \n",
    "-> 이렇게 하면 동일하게 02worker node로 감."
   ]
  },
  {
   "cell_type": "markdown",
   "id": "6c6d93a2-4f2b-4f34-8898-e2f71b0e229d",
   "metadata": {},
   "source": [
    "# Taint and Toleration"
   ]
  },
  {
   "cell_type": "code",
   "execution_count": null,
   "id": "95a76555-68e9-446c-a1c8-ad7ef909f445",
   "metadata": {},
   "outputs": [],
   "source": [
    "- Taint (스프레이) 를 설정한 노드에는 포드들이 스케줄링 되지 않습니다."
   ]
  },
  {
   "cell_type": "code",
   "execution_count": null,
   "id": "dd8de728-bf94-4683-973d-633bd75e1577",
   "metadata": {},
   "outputs": [],
   "source": [
    "- Toleration (내성) Pod에다가 지정을함."
   ]
  },
  {
   "cell_type": "code",
   "execution_count": null,
   "id": "76cc4efd-496c-4e70-940a-255af468e430",
   "metadata": {},
   "outputs": [],
   "source": [
    "kubectl get node --show-labels\n",
    "kubectl describe node | grep Taint ### check which nodes has taints.\n",
    "kubectl taint nodes k8s-worker02 knk=test:NoSchedule ### put taint with no schedule on worker02 node.\n",
    "kubectl taint node k8s-worker01 psk=test:NoSchedule ### UNTAINT."
   ]
  },
  {
   "cell_type": "code",
   "execution_count": null,
   "id": "287d84db-c8bf-4522-bcad-376c2c547cb0",
   "metadata": {},
   "outputs": [],
   "source": [
    "try label 02worker node and use nodeSelector to make pod but it won't work (it will be created but STATUS IS ON PENDING.)\n",
    "To make the pod work on that node : use Toleration or get rid of taints."
   ]
  },
  {
   "cell_type": "code",
   "execution_count": null,
   "id": "e6961b06-ab1d-4325-9843-c41d350a7882",
   "metadata": {},
   "outputs": [],
   "source": [
    " ###Example\n",
    "    \n",
    "apiVersion: v1\n",
    "kind: Pod\n",
    "metadata:\n",
    "  name: psk-nodeselector-pod2\n",
    "  namespace: study\n",
    "  labels:\n",
    "    app: psk-nginx\n",
    "spec:\n",
    "  containers:\n",
    "  - image: nginx\n",
    "    name: nginx\n",
    "    ports:\n",
    "    - containerPort: 80\n",
    "  tolerations:\n",
    "  - key: \"psk\"        ### ALL SHOWN in the cmd line.\n",
    "    value: \"test\"\n",
    "    operator: \"Equal\"\n",
    "    effect: \"NoSchedule\"\n",
    "  nodeSelector:\n",
    "    psk: test\n",
    "\n",
    "                                  ##### COMPARE\n",
    "kubectl taint nodes k8s-worker02 knk=test:NoSchedule\n",
    "    \n",
    "## Equivalent to equal\n",
    "apiVersion: v1\n",
    "kind: Pod\n",
    "metadata:\n",
    "  name: psk-nodeselector-pod2\n",
    "  namespace: study\n",
    "  labels:\n",
    "    app: psk-nginx\n",
    "spec:\n",
    "  containers:\n",
    "  - image: nginx\n",
    "    name: nginx\n",
    "    ports:\n",
    "    - containerPort: 80\n",
    "  tolerations:\n",
    "  - key: \"psk\"        ### ALL SHOWN in the cmd line.\n",
    "    operator: \"Exists\"\n",
    "    effect: \"NoSchedule\"\n",
    "  nodeSelector:\n",
    "    psk: test\n",
    "        "
   ]
  },
  {
   "cell_type": "markdown",
   "id": "354c5a08-f7fe-48d0-8d51-1260f503729f",
   "metadata": {},
   "source": [
    "### Then how about when nodeSelector is empty?\n",
    "-> k8s assigns pod to a node where taint is not set."
   ]
  },
  {
   "cell_type": "code",
   "execution_count": null,
   "id": "e99cf363-a05f-4b5f-b11c-690e447b830c",
   "metadata": {},
   "outputs": [],
   "source": [
    "effect: \"NoExecute\" -> 새로운 포드도 toleration이 없으면 실행되지 않게하고, 기존에 있던 포드역시 taint에 맞는 toleration 설정이 없으면 __종료시킵니다__.\n",
    "effect: \"PreferNoSchedule\" -> 새로운 포드도 toleration이 없으면 실행되지 않게하고, 기존에 있던 포드역시 taint에 맞는 toleration 설정이 없으면 __종료시킵니다__."
   ]
  },
  {
   "cell_type": "code",
   "execution_count": null,
   "id": "f30437f1-f48f-4d2f-b3ba-5728ec283e3b",
   "metadata": {},
   "outputs": [],
   "source": []
  },
  {
   "cell_type": "markdown",
   "id": "4a39a1e1-e2d8-4fd9-a7fa-db7bffa28047",
   "metadata": {},
   "source": [
    "### Node Affinity"
   ]
  },
  {
   "cell_type": "markdown",
   "id": "dc62c1d1-e807-4a18-b105-5fe35947a89c",
   "metadata": {},
   "source": [
    "=만 되는 노드셀렉터를 대체하기 위해 size affinity를 추가하여 In, Large, medium, small 으로 구분하고 조건을 집어넣는다."
   ]
  },
  {
   "cell_type": "code",
   "execution_count": null,
   "id": "a4c720dd-0947-44f1-88af-9aaf0f5c9a79",
   "metadata": {},
   "outputs": [],
   "source": [
    "kubectl apply -f .yml"
   ]
  },
  {
   "cell_type": "code",
   "execution_count": null,
   "id": "f02482d0-b375-4e75-9b0c-a85237819f73",
   "metadata": {},
   "outputs": [],
   "source": [
    "#Example.\n",
    "apiVersion: v1\n",
    "kind: Pod\n",
    "metadata:\n",
    "  name: psk-nodeselector-pod2\n",
    "  namespace: study\n",
    "  labels:\n",
    "    app: psk-nginx\n",
    "spec:\n",
    "  containers:\n",
    "  - image: nginx\n",
    "    name: nginx\n",
    "    ports:\n",
    "    - containerPort: 80\n",
    "  affinity:\n",
    "    nodeAffinity:\n",
    "      requiredDuringSchedulingIgnoredDuringExecution:\n",
    "        nodeSelectorTerms:\n",
    "        - matchExpressions:\n",
    "          - key: size\n",
    "            operator: In\n",
    "            values:\n",
    "            - large"
   ]
  },
  {
   "cell_type": "code",
   "execution_count": null,
   "id": "5ecd2415-6730-4dba-b0f7-7c1b316d0da5",
   "metadata": {},
   "outputs": [],
   "source": []
  }
 ],
 "metadata": {
  "kernelspec": {
   "display_name": "Python 3",
   "language": "python",
   "name": "python3"
  },
  "language_info": {
   "codemirror_mode": {
    "name": "ipython",
    "version": 3
   },
   "file_extension": ".py",
   "mimetype": "text/x-python",
   "name": "python",
   "nbconvert_exporter": "python",
   "pygments_lexer": "ipython3",
   "version": "3.8.8"
  }
 },
 "nbformat": 4,
 "nbformat_minor": 5
}
